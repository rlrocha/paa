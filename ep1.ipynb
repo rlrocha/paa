{
 "cells": [
  {
   "cell_type": "markdown",
   "id": "a7e03695-ae01-4bd1-990b-bb157a2d951f",
   "metadata": {},
   "source": [
    "<a href=\"https://colab.research.google.com/github/rlrocha/paa/blob/main/ep1.ipynb\" target=\"_parent\"><img src=\"https://colab.research.google.com/assets/colab-badge.svg\" alt=\"Open In Colab\"/></a>"
   ]
  },
  {
   "cell_type": "markdown",
   "id": "d35eecb9-f3b6-4a63-bd71-ca1501a687ee",
   "metadata": {},
   "source": [
    "# Exercício Prático 1\n",
    "Rafael Rocha"
   ]
  },
  {
   "cell_type": "code",
   "execution_count": 1,
   "id": "14ccc1df-d22d-40b2-afc8-b04d5bac37a8",
   "metadata": {},
   "outputs": [],
   "source": [
    "import numpy as np\n",
    "import pandas as pd\n",
    "import matplotlib.pyplot as plt\n",
    "import time"
   ]
  },
  {
   "cell_type": "markdown",
   "id": "413e1c6c-9e8f-42a3-ac7e-59fbdc3a065e",
   "metadata": {},
   "source": [
    "## Algoritmo Bubble sort"
   ]
  },
  {
   "cell_type": "code",
   "execution_count": 2,
   "id": "42f2452f-f077-4116-813c-60ccc19ab6a0",
   "metadata": {},
   "outputs": [],
   "source": [
    "def bubblesort_comandos(x):\n",
    "    \n",
    "    \"\"\"\n",
    "    \n",
    "    Parameters\n",
    "    ----------\n",
    "    x : \n",
    "        Vetor de números a serem ordenados.\n",
    "    \n",
    "    Returns\n",
    "    -------\n",
    "    y :\n",
    "        Vetor de números ordenados.\n",
    "    C :\n",
    "        Vetor de quantidade de comandos executados\n",
    "    \"\"\"\n",
    "        \n",
    "    C = np.zeros(4) # Comandos executados\n",
    "    n = np.size(x)\n",
    "\n",
    "    y = x.copy()\n",
    "    \n",
    "    for i in range(n):\n",
    "        C[0]+=1 # Custo loop 1\n",
    "        for j in range(n-1):\n",
    "            C[1]+=1 # Custo loop 2\n",
    "            if y[j]>y[j+1]:\n",
    "                C[2]+=1 # Custo if\n",
    "                temp = y[j]\n",
    "                y[j] = y[j+1]\n",
    "                y[j+1] = temp\n",
    "                C[3]+=3 # Custo troca\n",
    "    \n",
    "    return y, C"
   ]
  },
  {
   "cell_type": "code",
   "execution_count": 3,
   "id": "7d9bca9c-4673-48b9-a790-866de76760d5",
   "metadata": {},
   "outputs": [],
   "source": [
    "def bubblesort_tempo(x):\n",
    "    \n",
    "    \"\"\"\n",
    "    \n",
    "    Parameters\n",
    "    ----------\n",
    "    x : \n",
    "        Vetor de números a serem ordenados.\n",
    "    \n",
    "    Returns\n",
    "    -------\n",
    "    y :\n",
    "        Vetor de números ordenados.\n",
    "    T :\n",
    "        Tempo de execução do algoritmo\n",
    "    \"\"\"\n",
    "        \n",
    "    n = np.size(x)\n",
    "\n",
    "    y = x.copy()\n",
    "    \n",
    "    start_time = time.time()\n",
    "    for i in range(n):\n",
    "        for j in range(n-1):\n",
    "            if y[j]>y[j+1]:\n",
    "                temp = y[j]\n",
    "                y[j] = y[j+1]\n",
    "                y[j+1] = temp\n",
    "    T = time.time() - start_time # Tempo de execução\n",
    "    \n",
    "    return y, T"
   ]
  },
  {
   "cell_type": "markdown",
   "id": "701587b0-f019-495d-9b44-632020651024",
   "metadata": {},
   "source": [
    "## Exemplo de ordenação\n",
    "O código [ep1_gerador](ep1_gerador.ipynb) é utilizado para gerar os dados aleatoriamente (diferentes tamanhos) e criar o melhor caso, caso médio e pior caso para o algoritmo Bubble sort."
   ]
  },
  {
   "cell_type": "code",
   "execution_count": 4,
   "id": "d9c9060b-5e6d-4d2e-a714-6f76214250c3",
   "metadata": {},
   "outputs": [],
   "source": [
    "df = pd.read_csv('https://raw.githubusercontent.com/rlrocha/paa/main/dados/ep1/n_20.csv')"
   ]
  },
  {
   "cell_type": "code",
   "execution_count": 5,
   "id": "da9235c8-c0ba-457c-86d6-5697d7dae94e",
   "metadata": {},
   "outputs": [],
   "source": [
    "x = df['medio'].values"
   ]
  },
  {
   "cell_type": "code",
   "execution_count": 6,
   "id": "66544bfe-dc79-4ff7-9b28-8daf3ee93fa3",
   "metadata": {},
   "outputs": [],
   "source": [
    "y, C = bubblesort_comandos(x)\n",
    "_, T = bubblesort_tempo(x)"
   ]
  },
  {
   "cell_type": "code",
   "execution_count": 7,
   "id": "367b211c-4cad-45c2-b728-86cdfaaa6d2e",
   "metadata": {},
   "outputs": [
    {
     "name": "stdout",
     "output_type": "stream",
     "text": [
      "Vetor:  [11 89 22 49 10 15 11 20 81 68 26 55 76 54 34 82  5 12 88 82]\n",
      "Vetor ordenado:  [ 5 10 11 11 12 15 20 22 26 34 49 54 55 68 76 81 82 82 88 89]\n",
      "Comandos executados:  692.0\n",
      "Tempo de execução (ms):  0.9963512420654297\n"
     ]
    }
   ],
   "source": [
    "print('Vetor: ', x)\n",
    "print('Vetor ordenado: ', y)\n",
    "print('Comandos executados: ', C.sum())\n",
    "print('Tempo de execução (ms): ', T*1000)"
   ]
  },
  {
   "cell_type": "markdown",
   "id": "3e8f8ae1-1165-4b0b-a882-efa15e4ac066",
   "metadata": {},
   "source": [
    "## Resultados\n",
    "Conforme o tamanho do vetor a ser ordenado aumenta, tanto o número de comandos executados quanto o tempo de execução do algoritmo aumentam, conforme mostram os gráficos abaixo. O gráfico de comados executados pelo tamanho da entrada mostra o melhor caso (vetor já ordenado) do Bubble sort, com aproximadamente 10.000 comandos executados, enquanto o pior caso (ordenado inversamente) com quase 30.000 comandos executados quando o tamanho do vetor é 100. O mesmo acontece com o tempo de execução, onde no pior caso é aproximadamente o dobro do tempo gasto no melhor caso, para o tamanho do vetor igual a 100."
   ]
  },
  {
   "cell_type": "code",
   "execution_count": 11,
   "id": "2cb72175-4bf7-4715-ab62-06bbf5690ea7",
   "metadata": {},
   "outputs": [],
   "source": [
    "n_list = [10, 20, 30, 40, 50, 60, 70, 80, 90, 100]\n",
    "\n",
    "C_matriz = np.zeros((len(n_list), 3))\n",
    "T_matriz = np.zeros((len(n_list), 3))\n",
    "\n",
    "i=0\n",
    "# Loop comprimentos de entrada\n",
    "for n in n_list:\n",
    "    nome = 'https://raw.githubusercontent.com/rlrocha/paa/main/dados/ep1/n_'+str(n)+'.csv'\n",
    "    df = pd.read_csv(nome)\n",
    "    \n",
    "    melhor = df['melhor'].values\n",
    "    medio = df['medio'].values\n",
    "    pior = df['pior'].values\n",
    "    \n",
    "    caso_list = [melhor, medio, pior]\n",
    "    \n",
    "    # Loop casos: melhor, médio e pior\n",
    "    for j in range(len(caso_list)):\n",
    "        \n",
    "        x, C = bubblesort_comandos(caso_list[j])\n",
    "        x, T = bubblesort_tempo(caso_list[j])\n",
    "        \n",
    "        C_matriz[i,j] = C.sum()\n",
    "        T_matriz[i,j] = T\n",
    "    \n",
    "    i+=1"
   ]
  },
  {
   "cell_type": "code",
   "execution_count": 12,
   "id": "f08d77cc-2cc4-4563-af42-1b2ffaaae791",
   "metadata": {},
   "outputs": [
    {
     "data": {
      "image/png": "[encoded data removed]",
      "text/plain": [
       "<Figure size 432x288 with 1 Axes>"
      ]
     },
     "metadata": {
      "needs_background": "light"
     },
     "output_type": "display_data"
    }
   ],
   "source": [
    "x_axis = np.arange(1, np.size(C_matriz, 0)+1)\n",
    "caso = ['Melhor caso', 'Caso médio', 'Pior caso']\n",
    "\n",
    "plt.plot(n_list, C_matriz[:,0])\n",
    "plt.plot(n_list, C_matriz[:,1])\n",
    "plt.plot(n_list, C_matriz[:,2])\n",
    "plt.legend(caso)\n",
    "plt.ylabel('Comandos executados')\n",
    "plt.xlabel('Tamanho da entrada')\n",
    "plt.title('Bubble sort')\n",
    "plt.grid()\n",
    "#plt.savefig('resultados/ep1/comandoXentrada.pdf', bbox_inches = 'tight')\n",
    "plt.show()"
   ]
  },
  {
   "cell_type": "code",
   "execution_count": 13,
   "id": "00ce2519-75e1-489e-9e3e-1dedbbae9c09",
   "metadata": {},
   "outputs": [
    {
     "data": {
      "image/png": "[encoded data removed]",
      "text/plain": [
       "<Figure size 432x288 with 1 Axes>"
      ]
     },
     "metadata": {
      "needs_background": "light"
     },
     "output_type": "display_data"
    }
   ],
   "source": [
    "x_axis = np.arange(1, np.size(T_matriz, 0)+1)\n",
    "caso = ['Melhor caso', 'Caso médio', 'Pior caso']\n",
    "\n",
    "plt.plot(n_list, T_matriz[:,0]*1000)\n",
    "plt.plot(n_list, T_matriz[:,1]*1000)\n",
    "plt.plot(n_list, T_matriz[:,2]*1000)\n",
    "plt.legend(caso)\n",
    "plt.title('Bubble sort')\n",
    "plt.ylabel('Tempo de execução (ms)')\n",
    "plt.xlabel('Tamanho da entrada')\n",
    "plt.grid()\n",
    "#plt.savefig('resultados/ep1/tempoXentrada.pdf', bbox_inches = 'tight')\n",
    "plt.show()"
   ]
  },
  {
   "cell_type": "code",
   "execution_count": null,
   "id": "bc5778b0-7f02-41fc-b372-0f74d994c728",
   "metadata": {},
   "outputs": [],
   "source": []
  }
 ],
 "metadata": {
  "kernelspec": {
   "display_name": "Python 3",
   "language": "python",
   "name": "python3"
  },
  "language_info": {
   "codemirror_mode": {
    "name": "ipython",
    "version": 3
   },
   "file_extension": ".py",
   "mimetype": "text/x-python",
   "name": "python",
   "nbconvert_exporter": "python",
   "pygments_lexer": "ipython3",
   "version": "3.8.10"
  }
 },
 "nbformat": 4,
 "nbformat_minor": 5
}
