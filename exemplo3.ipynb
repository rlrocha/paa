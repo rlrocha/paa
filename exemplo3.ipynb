{
 "cells": [
  {
   "cell_type": "code",
   "execution_count": 1,
   "id": "f625e792-de0e-47f7-b1f9-f3daeaade26a",
   "metadata": {},
   "outputs": [],
   "source": [
    "import numpy as np"
   ]
  },
  {
   "cell_type": "code",
   "execution_count": 2,
   "id": "af1e4d9f-dc5f-4066-bc1a-6d909743ebe5",
   "metadata": {},
   "outputs": [],
   "source": [
    "def fatorial(n):\n",
    "    if n == 0:\n",
    "        return 1\n",
    "    else:\n",
    "        return n*fatorial(n-1)"
   ]
  },
  {
   "cell_type": "code",
   "execution_count": 7,
   "id": "1e2eac8e-40e6-47d6-81f6-59c091df966d",
   "metadata": {},
   "outputs": [
    {
     "name": "stdout",
     "output_type": "stream",
     "text": [
      "Número:  5\n",
      "Fatorial:  120\n"
     ]
    }
   ],
   "source": [
    "n = 5\n",
    "n_fat = fatorial(n)\n",
    "\n",
    "print('Número: ', n)\n",
    "print('Fatorial: ', n_fat)"
   ]
  },
  {
   "cell_type": "code",
   "execution_count": 8,
   "id": "cf195b21-b195-4e89-ba1a-3e3e11dc1bdb",
   "metadata": {},
   "outputs": [],
   "source": [
    "def fibonacci(n):\n",
    "    if n==0 or n==1:\n",
    "        return n\n",
    "    else:\n",
    "        return fibonacci(n-2) + fibonacci(n-1)  "
   ]
  },
  {
   "cell_type": "code",
   "execution_count": 17,
   "id": "f9cc06f0-092f-4f59-a7c3-450455cffdf4",
   "metadata": {},
   "outputs": [
    {
     "name": "stdout",
     "output_type": "stream",
     "text": [
      "Número:  10\n",
      "Fibonacci:  55\n"
     ]
    }
   ],
   "source": [
    "n = 10\n",
    "n_fib = fibonacci(n)\n",
    "\n",
    "print('Número: ', n)\n",
    "print('Fibonacci: ', n_fib)"
   ]
  },
  {
   "cell_type": "code",
   "execution_count": null,
   "id": "7044b6e1-8913-4464-b73b-749c95879e3c",
   "metadata": {},
   "outputs": [],
   "source": []
  }
 ],
 "metadata": {
  "kernelspec": {
   "display_name": "Python 3",
   "language": "python",
   "name": "python3"
  },
  "language_info": {
   "codemirror_mode": {
    "name": "ipython",
    "version": 3
   },
   "file_extension": ".py",
   "mimetype": "text/x-python",
   "name": "python",
   "nbconvert_exporter": "python",
   "pygments_lexer": "ipython3",
   "version": "3.8.10"
  }
 },
 "nbformat": 4,
 "nbformat_minor": 5
}
