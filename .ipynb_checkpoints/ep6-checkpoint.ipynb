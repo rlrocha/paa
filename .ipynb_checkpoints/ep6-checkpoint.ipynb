{
 "cells": [
  {
   "cell_type": "markdown",
   "id": "497e78ea-5687-4bb1-bc5d-7f587f7922a7",
   "metadata": {},
   "source": [
    "<a href=\"https://colab.research.google.com/github/rlrocha/paa/blob/main/ep6.ipynb\" target=\"_parent\"><img src=\"https://colab.research.google.com/assets/colab-badge.svg\" alt=\"Open In Colab\"/></a>"
   ]
  },
  {
   "cell_type": "markdown",
   "id": "7e8fb59e-53bd-48b8-8465-df430cde8e4c",
   "metadata": {},
   "source": [
    "# Exercício Prático 6\n",
    "Rafael Rocha"
   ]
  },
  {
   "cell_type": "code",
   "execution_count": 219,
   "id": "487dc0b1-0507-4004-a838-eec31f27bbbc",
   "metadata": {},
   "outputs": [],
   "source": [
    "import numpy as np\n",
    "import time\n",
    "import matplotlib.pyplot as plt"
   ]
  },
  {
   "cell_type": "markdown",
   "id": "ead8555a-f9ec-4b81-b9bd-56caf1ca7bf2",
   "metadata": {},
   "source": [
    "## Funções para a implementação do Hash Linear e Hash Duplo"
   ]
  },
  {
   "cell_type": "code",
   "execution_count": 9,
   "id": "dbce74b4-c8b9-4311-adbb-b9e9e732b871",
   "metadata": {},
   "outputs": [],
   "source": [
    "def funcao_hash(x, m):\n",
    "    \n",
    "    h = np.mod(x, m)\n",
    "    \n",
    "    return h"
   ]
  },
  {
   "cell_type": "code",
   "execution_count": 61,
   "id": "8f90056c-b72b-4f04-8f16-c4d71eb11e07",
   "metadata": {},
   "outputs": [],
   "source": [
    "def funcao_d(k, m):\n",
    "    \n",
    "    d = 1 + (np.mod(k, m))\n",
    "    \n",
    "    return d"
   ]
  },
  {
   "cell_type": "code",
   "execution_count": 54,
   "id": "433ffc89-ea8a-4c7c-8809-a11b7387be69",
   "metadata": {},
   "outputs": [],
   "source": [
    "def hash_linear(x, m, j):\n",
    "    \n",
    "    h = funcao_hash(x, m)\n",
    "    hj = np.mod(h+j, m)\n",
    "    \n",
    "    return hj"
   ]
  },
  {
   "cell_type": "code",
   "execution_count": 62,
   "id": "ae3e8c0d-e52a-4720-9676-7a3c5b1d1bfd",
   "metadata": {},
   "outputs": [],
   "source": [
    "def hash_duplo(x, m, j):\n",
    "    \n",
    "    h = funcao_hash(x, m)\n",
    "    d = funcao_d(x, m)\n",
    "    \n",
    "    hj = np.mod(h+(j*d), m)\n",
    "    \n",
    "    return hj"
   ]
  },
  {
   "cell_type": "code",
   "execution_count": 87,
   "id": "36681355-3c08-4e9b-a3a4-6b207115b595",
   "metadata": {},
   "outputs": [],
   "source": [
    "def inserir_hash_linear(x, m, T):\n",
    "    \n",
    "    global colisao_linear\n",
    "    \n",
    "    h = funcao_hash(x, m)\n",
    "\n",
    "    if T[h] == 0:\n",
    "        T[h] = x\n",
    "    else:\n",
    "        colisao_linear+=1\n",
    "        for j in range(m):\n",
    "            hj = hash_linear(x, m, j)\n",
    "            \n",
    "            if T[hj] == 0:\n",
    "                T[hj] = x\n",
    "                break\n",
    "    \n",
    "    return T"
   ]
  },
  {
   "cell_type": "code",
   "execution_count": 199,
   "id": "90c607a0-e1a2-43bf-9c69-0d263ed07eaf",
   "metadata": {},
   "outputs": [],
   "source": [
    "def busca_hash_linear(x, m, T, c, vis=False):\n",
    "    \n",
    "    h = funcao_hash(x, m)\n",
    "\n",
    "    if T[h] == c:\n",
    "        if vis:\n",
    "            print('Chave %d encontrada na posição %d da tabela hash.' % (c, h))\n",
    "        return True\n",
    "    else:\n",
    "\n",
    "        for j in range(m):\n",
    "            hj = hash_linear(x, m, j)\n",
    "\n",
    "            if T[hj] == c:\n",
    "                if vis:\n",
    "                    print('Chave %d encontrada na posição %d da tabela hash.' % (c, hj))\n",
    "                return True\n",
    "        \n",
    "        if vis:\n",
    "            print('Chave %d não encontrada na tabela hash.' % c)\n",
    "        return False"
   ]
  },
  {
   "cell_type": "code",
   "execution_count": 88,
   "id": "4ddbaf9c-d537-4b5d-b0a8-d00ea7f41e31",
   "metadata": {},
   "outputs": [],
   "source": [
    "def inserir_hash_duplo(x, m, T):\n",
    "    \n",
    "    global colisao_duplo\n",
    "    \n",
    "    h = funcao_hash(x, m)\n",
    "\n",
    "    if T[h] == 0:\n",
    "        T[h] = x\n",
    "    else:\n",
    "        colisao_duplo+=1\n",
    "        for j in range(m):\n",
    "            hj = hash_duplo(x, m, j)\n",
    "            \n",
    "            if T[hj] == 0:\n",
    "                T[hj] = x\n",
    "                break\n",
    "    \n",
    "    return T"
   ]
  },
  {
   "cell_type": "code",
   "execution_count": 206,
   "id": "8f2276c8-f7f6-4906-ba99-993e0cd26206",
   "metadata": {},
   "outputs": [],
   "source": [
    "def busca_hash_duplo(x, m, T, c, vis=False):\n",
    "    \n",
    "    h = funcao_hash(x, m)\n",
    "\n",
    "    if T[h] == c:\n",
    "        if vis:\n",
    "            print('Chave %d encontrada na posição %d da tabela hash.' % (c, h))\n",
    "        return True\n",
    "    else:\n",
    "\n",
    "        for j in range(m):\n",
    "            hj = hash_duplo(x, m, j)\n",
    "\n",
    "            if T[hj] == c:\n",
    "                if vis:\n",
    "                    print('Chave %d encontrada na posição %d da tabela hash.' % (c, hj))\n",
    "                return True\n",
    "        \n",
    "        if vis:\n",
    "            print('Chave %d não encontrada na tabela hash.' % c)\n",
    "        return False"
   ]
  },
  {
   "cell_type": "markdown",
   "id": "094c97d4-789a-4634-a822-83996b6bb6f2",
   "metadata": {},
   "source": [
    "## Exemplo de inserção e busca nos Hash Linear e  Hash Duplo"
   ]
  },
  {
   "cell_type": "code",
   "execution_count": 189,
   "id": "52e84d5e-5e3c-4ed4-8514-8fde1e1628f6",
   "metadata": {},
   "outputs": [],
   "source": [
    "x_lista = [10, 22, 31, 4, 15, 28, 59]\n",
    "\n",
    "m = 11 # Tamanho da tabela\n",
    "\n",
    "T_linear = np.zeros(m, dtype=np.int64) # Tabela Hash (linear)\n",
    "T_duplo = np.zeros(m, dtype=np.int64) # Tabela Hash (duplo)\n",
    "\n",
    "colisao_linear = 0\n",
    "colisao_duplo = 0\n",
    "for x in x_lista:\n",
    "\n",
    "    h = funcao_hash(x, m)\n",
    "    \n",
    "    T_linear = inserir_hash_linear(x, m, T_linear)\n",
    "    T_duplo = inserir_hash_duplo(x, m, T_duplo)\n",
    "    \n",
    "print('Tabela Hash (linear): ', T_linear)\n",
    "print('Colisões (linear): ', colisao_linear)\n",
    "\n",
    "print('\\nTabela Hash (duplo): ', T_duplo)\n",
    "print('Colisões (duplo): ', colisao_duplo)\n",
    "\n",
    "c = 15 # Elemento a ser buscado\n",
    "\n",
    "busca_hash_linear(x, m, T_linear, c, vis=True)\n",
    "busca_hash_duplo(x, m, T_duplo, c, vis=True)"
   ]
  },
  {
   "cell_type": "markdown",
   "id": "d92e4dfe-6b5d-46c6-b30f-303f7793b807",
   "metadata": {},
   "source": [
    "## Análise da Complexidade dos Algoritmos"
   ]
  },
  {
   "cell_type": "markdown",
   "id": "eb30859c-aba4-4603-bd26-6bf16faa554e",
   "metadata": {},
   "source": [
    "### Análise 1\n",
    "Ao analisar o resultado de 20 repetições da inserção de 10.000 chaves aleatórias, nota-se que embora a média de colisões no Hash Linear seja maior que o Hash Duplo, a média do tempo de inserção do Hash Duplo é significativamente superior ao Hash Linear. Nota-se também, que, em média, nem todas as chaves são inseridas no Hash Duplo, por outro lado, a tabela Hash do Hash Linear é preenchida em todas as 20 repetições."
   ]
  },
  {
   "cell_type": "code",
   "execution_count": 269,
   "id": "30be7673-6065-4a79-b0a6-fb661992cd00",
   "metadata": {},
   "outputs": [],
   "source": [
    "repeticoes = 20 # Número de repetições\n",
    "n = 1000 # Número de elementos inseridos\n",
    "\n",
    "# Número de colisões em cada repetição\n",
    "colisao_linear_lista = []\n",
    "colisao_duplo_lista = []\n",
    "\n",
    "# Tempo de inserção em cada repetição\n",
    "tempo_linear_lista = []\n",
    "tempo_duplo_lista = []\n",
    "\n",
    "# Número de elementos na tabela hash\n",
    "elemento_linear_lista = []\n",
    "elemento_duplo_lista = []\n",
    "\n",
    "for i in range(repeticoes):\n",
    "    \n",
    "    x_lista = list(np.random.permutation(np.arange(1, 100001, 1)))\n",
    "\n",
    "    x_lista = x_lista[0:n]\n",
    "\n",
    "    m = n # Tamanho da tabela\n",
    "\n",
    "    T_linear = np.zeros(m, dtype=np.int64) # Tabela Hash (linear)\n",
    "    T_duplo = np.zeros(m, dtype=np.int64) # Tabela Hash (duplo)\n",
    "\n",
    "    colisao_linear = 0\n",
    "    colisao_duplo = 0\n",
    "    \n",
    "    tempo_linear = 0\n",
    "    tempo_duplo = 0\n",
    "    \n",
    "    for x in x_lista:\n",
    "\n",
    "        h = funcao_hash(x, m)\n",
    "        \n",
    "        start_time = time.time()\n",
    "        T_linear = inserir_hash_linear(x, m, T_linear)\n",
    "        tempo_linear = tempo_linear + time.time() - start_time # Tempo de inserção (hash linear)\n",
    "        \n",
    "        start_time = time.time()\n",
    "        T_duplo = inserir_hash_duplo(x, m, T_duplo)\n",
    "        tempo_duplo = tempo_duplo + time.time() - start_time # Tempo de inserção (hash duplo)\n",
    "    \n",
    "    colisao_linear_lista.append(colisao_linear)\n",
    "    colisao_duplo_lista.append(colisao_duplo)\n",
    "    \n",
    "    tempo_linear_lista.append(tempo_linear)\n",
    "    tempo_duplo_lista.append(tempo_duplo)\n",
    "    \n",
    "    elemento_linear_lista.append(np.count_nonzero(T_linear!=0))\n",
    "    elemento_duplo_lista.append(np.count_nonzero(T_duplo!=0))"
   ]
  },
  {
   "cell_type": "code",
   "execution_count": 270,
   "id": "9b65d6bb-da60-41ef-a1af-c1f3b0504b27",
   "metadata": {},
   "outputs": [
    {
     "name": "stdout",
     "output_type": "stream",
     "text": [
      "Média colisões (hash linear):  494.45\n",
      "Média tempo (ms) de inserção (hash linear):  132.9188346862793\n",
      "Média de elementos na tabela (hash linear): 1000.0\n",
      "\n",
      "Média colisões (hash duplo):  486.75\n",
      "Média tempo (ms) de inserção (hash duplo):  775.8760213851929\n",
      "Média de elementos na tabela (hash duplo): 919.7\n"
     ]
    }
   ],
   "source": [
    "print('Média colisões (hash linear): ', np.mean(colisao_linear_lista))\n",
    "print('Média tempo (ms) de inserção (hash linear): ', np.mean(tempo_linear_lista)*1000)\n",
    "print('Média de elementos na tabela (hash linear):', np.mean(elemento_linear_lista))\n",
    "\n",
    "print('\\nMédia colisões (hash duplo): ',  np.mean(colisao_duplo_lista))\n",
    "print('Média tempo (ms) de inserção (hash duplo): ', np.mean(tempo_duplo_lista)*1000)\n",
    "print('Média de elementos na tabela (hash duplo):', np.mean(elemento_duplo_lista))"
   ]
  },
  {
   "cell_type": "markdown",
   "id": "2a91ab57-dc80-4cfe-a553-0fc99348cc08",
   "metadata": {},
   "source": [
    "### Análise 2"
   ]
  },
  {
   "cell_type": "code",
   "execution_count": null,
   "id": "628f7001-5774-472d-be5d-e9dba350e1b2",
   "metadata": {},
   "outputs": [],
   "source": [
    "n_lista = np.arange(100, 10100, 100)\n",
    "#n_lista = np.arange(100, 1100, 100)\n",
    "\n",
    "# Número de colisões\n",
    "colisao_linear_lista = []\n",
    "colisao_duplo_lista = []\n",
    "\n",
    "# Tempo de inserção\n",
    "tempoInsercao_linear_lista = []\n",
    "tempoInsercao_duplo_lista = []\n",
    "\n",
    "# Tempo de busca\n",
    "tempoBusca_linear_lista = []\n",
    "tempoBusca_duplo_lista = []\n",
    "\n",
    "for n in n_lista:\n",
    "    \n",
    "    #x_lista = list(np.random.permutation(np.arange(1, n+1, 1)))\n",
    "    \n",
    "    x_lista = list(np.random.permutation(np.arange(1, 100001, 1)))\n",
    "\n",
    "    x_lista = x_lista[0:n]\n",
    "    \n",
    "    m = n # Tamanho da tabela\n",
    "    \n",
    "    T_linear = np.zeros(m, dtype=np.int64) # Tabela Hash (linear)\n",
    "    T_duplo = np.zeros(m, dtype=np.int64) # Tabela Hash (duplo)\n",
    "\n",
    "    colisao_linear = 0\n",
    "    colisao_duplo = 0\n",
    "    \n",
    "    tempoInsercao_linear = 0\n",
    "    tempoInsercao_duplo = 0\n",
    "    \n",
    "    tempoBusca_linear = 0\n",
    "    tempoBusca_duplo = 0\n",
    "    \n",
    "    for x in x_lista:\n",
    "\n",
    "        h = funcao_hash(x, m)\n",
    "        \n",
    "        start_time = time.time()\n",
    "        T_linear = inserir_hash_linear(x, m, T_linear)\n",
    "        tempoInsercao_linear = tempoInsercao_linear + time.time() - start_time # Tempo de inserção (hash linear)\n",
    "        \n",
    "        start_time = time.time()\n",
    "        T_duplo = inserir_hash_duplo(x, m, T_duplo)\n",
    "        tempoInsercao_duplo = tempoInsercao_duplo + time.time() - start_time # Tempo de inserção (hash duplo)\n",
    "    \n",
    "    c = np.random.choice(x_lista) # Elemento aleatório a ser buscado\n",
    "    \n",
    "    start_time = time.time()\n",
    "    busca_hash_linear(x, m, T_linear, c)\n",
    "    tempoBusca_linear = time.time() - start_time\n",
    "    \n",
    "    start_time = time.time()\n",
    "    busca_hash_duplo(x, m, T_duplo, c)\n",
    "    tempoBusca_duplo = time.time() - start_time\n",
    "    \n",
    "    colisao_linear_lista.append(colisao_linear)\n",
    "    colisao_duplo_lista.append(colisao_duplo)\n",
    "    \n",
    "    tempoInsercao_linear_lista.append(tempoInsercao_linear*1000)\n",
    "    tempoInsercao_duplo_lista.append(tempoInsercao_duplo*1000)\n",
    "    \n",
    "    tempoBusca_linear_lista.append(tempoBusca_linear*1000)\n",
    "    tempoBusca_duplo_lista.append(tempoBusca_duplo*1000)"
   ]
  },
  {
   "cell_type": "code",
   "execution_count": null,
   "id": "b1999435-a30a-463b-a215-44ce86c51175",
   "metadata": {},
   "outputs": [],
   "source": [
    "fig_luz, axes = plt.subplots(1,2, figsize=(8,4), dpi=300)\n",
    "plt.tight_layout()\n",
    "\n",
    "axes[0].plot(n_lista, tempoInsercao_linear_lista, color='blue')\n",
    "axes[0].plot(n_lista, tempoInsercao_duplo_lista, color='red')\n",
    "axes[0].set_xlabel('Quantidade de chaves')\n",
    "axes[0].set_ylabel('Tempo de execução (s)')\n",
    "axes[0].set_title('Inserção')\n",
    "axes[0].grid()\n",
    "axes[0].legend(['Hash linear', 'Hash duplo'])\n",
    "\n",
    "axes[1].plot(n_lista, tempoBusca_linear_lista, color='blue')\n",
    "axes[1].plot(n_lista, tempoBusca_duplo_lista, color='red')\n",
    "axes[1].set_xlabel('Quantidade de chaves')\n",
    "axes[1].set_ylabel('Tempo de execução (s)')\n",
    "axes[1].set_title('Busca')\n",
    "axes[1].grid()\n",
    "axes[1].legend(['Hash linear', 'Hash duplo'])\n",
    "\n",
    "plt.subplots_adjust(right=1.5)\n",
    "\n",
    "#plt.savefig('resultados/ep5/ep5_analise1.png', dpi=300, bbox_inches = 'tight')\n",
    "plt.show()"
   ]
  },
  {
   "cell_type": "code",
   "execution_count": null,
   "id": "308d0109-598a-4fab-be34-f8cd37d1cd64",
   "metadata": {},
   "outputs": [],
   "source": []
  }
 ],
 "metadata": {
  "kernelspec": {
   "display_name": "Python 3",
   "language": "python",
   "name": "python3"
  },
  "language_info": {
   "codemirror_mode": {
    "name": "ipython",
    "version": 3
   },
   "file_extension": ".py",
   "mimetype": "text/x-python",
   "name": "python",
   "nbconvert_exporter": "python",
   "pygments_lexer": "ipython3",
   "version": "3.8.11"
  }
 },
 "nbformat": 4,
 "nbformat_minor": 5
}
