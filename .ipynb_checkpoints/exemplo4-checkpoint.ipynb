{
 "cells": [
  {
   "cell_type": "code",
   "execution_count": 2,
   "id": "44161f15-7911-4720-af00-d75e5ebf9a90",
   "metadata": {},
   "outputs": [],
   "source": [
    "import numpy as np"
   ]
  },
  {
   "cell_type": "markdown",
   "id": "b62f4a3f-87e4-44e3-ac79-31d722c549f0",
   "metadata": {},
   "source": [
    "### Merge-Sort"
   ]
  },
  {
   "cell_type": "code",
   "execution_count": 21,
   "id": "02f8251d-0395-41e3-ae1f-14b35e882f78",
   "metadata": {},
   "outputs": [],
   "source": [
    "def peneira(A, n, i):\n",
    "    \n",
    "    l = 2*i # Esquerda\n",
    "    r = 2*i + 1 # Direita\n",
    "    \n",
    "    maior = i\n",
    "    \n",
    "    print(n)\n",
    "    print(l)\n",
    "    print(maior)\n",
    "    if (l <= n) and (A[l] > A[maior]):\n",
    "        maior = l\n",
    "    \n",
    "    if (r <= n) and (A[r] > A[maior]):\n",
    "        maior = r\n",
    "    \n",
    "    if (maior != i):\n",
    "        temp = A[i]\n",
    "        A[i] = A[maior]\n",
    "        A[maior] = temp\n",
    "        peneira(A, n, maior)\n",
    "    "
   ]
  },
  {
   "cell_type": "code",
   "execution_count": 25,
   "id": "59884106-15b0-4963-831b-6408cc090229",
   "metadata": {},
   "outputs": [],
   "source": [
    "def max_heap(A, n):\n",
    "    for i in range(int(n/2), -1, -1):\n",
    "        peneira(A, n, i)"
   ]
  },
  {
   "cell_type": "code",
   "execution_count": 16,
   "id": "a64757ce-e933-4fd7-813a-c541f0a84059",
   "metadata": {},
   "outputs": [
    {
     "name": "stdout",
     "output_type": "stream",
     "text": [
      "5\n",
      "4\n",
      "3\n",
      "2\n",
      "1\n"
     ]
    }
   ],
   "source": [
    "n=10\n",
    "for i in range(int(n/2), -1, -1):\n",
    "    print(i)"
   ]
  },
  {
   "cell_type": "code",
   "execution_count": 26,
   "id": "87b22504-58d5-48b1-895b-cb8ce2fbabe1",
   "metadata": {},
   "outputs": [
    {
     "name": "stdout",
     "output_type": "stream",
     "text": [
      "9\n",
      "8\n",
      "4\n",
      "9\n",
      "16\n",
      "8\n",
      "9\n",
      "6\n",
      "3\n",
      "9\n",
      "4\n",
      "2\n",
      "9\n",
      "2\n",
      "1\n",
      "9\n",
      "6\n",
      "3\n",
      "9\n",
      "0\n",
      "0\n",
      "Vetor:  [16  4 10 14  7  9  3  2  8  1]\n",
      "Vetor ordenado:  [16 14 10  4  8  9  3  2  7  1]\n"
     ]
    }
   ],
   "source": [
    "A = np.array((16, 4, 10, 14, 7, 9, 3, 2, 8, 1))\n",
    "A_ord = A.copy()\n",
    "\n",
    "n = len(A)-1\n",
    "\n",
    "max_heap(A_ord, n)\n",
    "\n",
    "print('Vetor: ', A)\n",
    "print('Vetor ordenado: ', A_ord)"
   ]
  },
  {
   "cell_type": "markdown",
   "id": "aec1bcfd-08c1-4267-bc6f-c28cf7c31862",
   "metadata": {},
   "source": [
    "### Quick-Sort"
   ]
  },
  {
   "cell_type": "code",
   "execution_count": 2,
   "id": "4dfd5c39-eb00-4d87-9a80-1db87a980024",
   "metadata": {},
   "outputs": [],
   "source": [
    "def particao(A, p, r):\n",
    "    \n",
    "    x = A[r]\n",
    "    i = p-1\n",
    "    \n",
    "    for j in range(p, r, 1):\n",
    "        if A[j] <= x:\n",
    "            i+=1\n",
    "            temp = A[j]\n",
    "            A[j] = A[i]\n",
    "            A[i] = temp\n",
    "    \n",
    "    temp = A[r]\n",
    "    A[r] = A[i+1]\n",
    "    A[i+1] = temp\n",
    "    \n",
    "    return i+1"
   ]
  },
  {
   "cell_type": "code",
   "execution_count": 3,
   "id": "e3fd238a-6547-4651-a5a1-9366c4859cc2",
   "metadata": {},
   "outputs": [],
   "source": [
    "def quick_sort(A, p, r):\n",
    "    if p<r:\n",
    "        q = particao(A, p, r)\n",
    "        quick_sort(A, p, q-1)\n",
    "        quick_sort(A, q+1, r)"
   ]
  },
  {
   "cell_type": "code",
   "execution_count": 4,
   "id": "68b6e2de-53f2-491e-91c5-5730b2a5c52d",
   "metadata": {},
   "outputs": [
    {
     "name": "stdout",
     "output_type": "stream",
     "text": [
      "Vetor:  [2 8 7 1 3 5 6]\n",
      "Vetor ordenado:  [1 2 3 5 6 7 8]\n"
     ]
    }
   ],
   "source": [
    "A = np.array((2, 8, 7, 1, 3, 5, 6))\n",
    "A_ord = A.copy()\n",
    "\n",
    "quick_sort(A_ord, 0, 6)\n",
    "\n",
    "print('Vetor: ', A)\n",
    "print('Vetor ordenado: ', A_ord)"
   ]
  },
  {
   "cell_type": "markdown",
   "id": "ce0e8491-26a4-4943-b5e1-3d786f5ccf95",
   "metadata": {},
   "source": [
    "### Counting-Sort"
   ]
  },
  {
   "cell_type": "code",
   "execution_count": 5,
   "id": "65a53b79-60ca-4b2e-9d91-21cb31531945",
   "metadata": {},
   "outputs": [],
   "source": [
    "def counting_sort(A, B, C, n, k):\n",
    "    \n",
    "    for i in range(k):\n",
    "        C[i]=0\n",
    "\n",
    "    for j in range(n):\n",
    "        C[A[j]] = C[A[j]] + 1\n",
    "\n",
    "    for i in range(1, k, 1):\n",
    "        C[i] = C[i] + C[i-1]\n",
    "        \n",
    "    for j in range(n-1, -1, -1):\n",
    "        B[C[A[j]]-1] = A[j]\n",
    "        C[A[j]] = C[A[j]] - 1\n",
    "    \n",
    "    return B"
   ]
  },
  {
   "cell_type": "code",
   "execution_count": 6,
   "id": "97202fa8-e3e6-4b96-a73c-db07c005f2d3",
   "metadata": {},
   "outputs": [
    {
     "name": "stdout",
     "output_type": "stream",
     "text": [
      "Vetor:  [2 5 3 0 2 3 0 3]\n",
      "Vetor ordenado:  [0 0 2 2 3 3 3 5]\n"
     ]
    }
   ],
   "source": [
    "A = np.array((2, 5, 3, 0, 2, 3, 0, 3))\n",
    "\n",
    "n = len(A)\n",
    "k = np.max(A)+1\n",
    "\n",
    "B = np.zeros(n, dtype=np.int32)\n",
    "C = np.ones(k, dtype=np.int32)\n",
    "\n",
    "B = counting_sort(A, B, C, n, k)\n",
    "\n",
    "print('Vetor: ', A)\n",
    "print('Vetor ordenado: ', B)"
   ]
  },
  {
   "cell_type": "markdown",
   "id": "033dcc85-4592-426d-9b9f-df6674b4d53e",
   "metadata": {},
   "source": [
    "### Radix-Sort"
   ]
  },
  {
   "cell_type": "code",
   "execution_count": 7,
   "id": "8ec6cee2-672e-4a81-bbb6-5b5c56b7c08e",
   "metadata": {},
   "outputs": [],
   "source": [
    "def counting_sort_radix(A, B, C, n, k, d):\n",
    "    \n",
    "    for i in range(k):\n",
    "        C[i]=0\n",
    "    \n",
    "    for j in range(n):\n",
    "        Aj = int(np.mod(np.floor(A[j]/d), 10)) \n",
    "        C[Aj] += 1\n",
    "    \n",
    "    for i in range(1, k, 1):\n",
    "        C[i] = C[i] + C[i-1]\n",
    "    \n",
    "    for j in range(n-1, -1, -1):\n",
    "        Aj = int(np.mod(np.floor(A[j]/d), 10)) \n",
    "        B[C[Aj]-1] = A[j]\n",
    "        C[Aj] = C[Aj] - 1\n",
    "    \n",
    "    return B"
   ]
  },
  {
   "cell_type": "code",
   "execution_count": 8,
   "id": "b5a23514-506c-4224-9490-aecb907d88ea",
   "metadata": {},
   "outputs": [],
   "source": [
    "def radix_sort(A, n):\n",
    "    \n",
    "    maior = max(A)\n",
    "    d = 1\n",
    "    \n",
    "    while np.floor(maior/d) > 0:\n",
    "    \n",
    "        k = int(np.max(np.mod(A/d, 10))+1)\n",
    "\n",
    "        B = np.zeros(n, dtype=np.int32)\n",
    "        C = np.ones(k, dtype=np.int32)\n",
    "\n",
    "        B = counting_sort_radix(A, B, C, n, k, d)\n",
    "\n",
    "        for i in range(n):\n",
    "            A[i] = B[i]\n",
    "\n",
    "        d = d*10\n",
    "    \n",
    "    return A"
   ]
  },
  {
   "cell_type": "code",
   "execution_count": 9,
   "id": "f3fc54fb-bb3c-422b-b631-4201db1cbfb4",
   "metadata": {},
   "outputs": [
    {
     "name": "stdout",
     "output_type": "stream",
     "text": [
      "Vetor:  [329 457 657 839 436 720 355]\n",
      "Vetor ordenado:  [329 355 436 457 657 720 839]\n"
     ]
    }
   ],
   "source": [
    "A = np.array((329, 457, 657, 839, 436, 720, 355))\n",
    "A_old = A.copy()\n",
    "\n",
    "n = len(A)\n",
    "\n",
    "A = radix_sort(A, n)\n",
    "\n",
    "print('Vetor: ', A_old)\n",
    "print('Vetor ordenado: ', A)"
   ]
  },
  {
   "cell_type": "code",
   "execution_count": null,
   "id": "e477599f-ba5e-4a69-95dd-075f29ae2fd4",
   "metadata": {},
   "outputs": [],
   "source": []
  }
 ],
 "metadata": {
  "kernelspec": {
   "display_name": "Python 3",
   "language": "python",
   "name": "python3"
  },
  "language_info": {
   "codemirror_mode": {
    "name": "ipython",
    "version": 3
   },
   "file_extension": ".py",
   "mimetype": "text/x-python",
   "name": "python",
   "nbconvert_exporter": "python",
   "pygments_lexer": "ipython3",
   "version": "3.8.10"
  }
 },
 "nbformat": 4,
 "nbformat_minor": 5
}
