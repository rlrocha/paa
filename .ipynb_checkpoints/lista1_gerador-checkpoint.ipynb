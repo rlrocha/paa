{
 "cells": [
  {
   "cell_type": "code",
   "execution_count": 1,
   "id": "e220384c-78d7-43cc-a805-0e514cb113ea",
   "metadata": {},
   "outputs": [],
   "source": [
    "import numpy as np\n",
    "import pandas as pd"
   ]
  },
  {
   "cell_type": "code",
   "execution_count": 2,
   "id": "d0db8076-22eb-487c-a433-27f523b83216",
   "metadata": {},
   "outputs": [],
   "source": [
    "def gerar_numeros(menor=0, maior=100, tam=10):\n",
    "    \n",
    "    x = np.random.randint(menor, maior+1, tam)\n",
    "    \n",
    "    return x"
   ]
  },
  {
   "cell_type": "code",
   "execution_count": 9,
   "id": "7b7a187e-8d7e-442a-a3fb-968483b83713",
   "metadata": {},
   "outputs": [],
   "source": [
    "n_list = [10, 20, 30, 40, 50, 60, 70, 80, 100]\n",
    "\n",
    "for n in n_list:\n",
    "    X = gerar_numeros(tam=n)\n",
    "    x_melhor = sorted(X, reverse=False)\n",
    "    x_medio = X.copy() # O caso médio é a própria geração aleatória\n",
    "    x_pior = sorted(X, reverse=True)\n",
    "    \n",
    "    caso_dict = {}\n",
    "    caso_dict['melhor'] = x_melhor\n",
    "    caso_dict['medio'] = x_medio\n",
    "    caso_dict['pior'] = x_pior\n",
    "     \n",
    "    df_caso = pd.DataFrame(caso_dict)\n",
    "    \n",
    "    nome = 'dados/lista1/n_'+str(n)+'.csv'\n",
    "    df_caso.to_csv(nome, index=False)"
   ]
  }
 ],
 "metadata": {
  "kernelspec": {
   "display_name": "Python 3",
   "language": "python",
   "name": "python3"
  },
  "language_info": {
   "codemirror_mode": {
    "name": "ipython",
    "version": 3
   },
   "file_extension": ".py",
   "mimetype": "text/x-python",
   "name": "python",
   "nbconvert_exporter": "python",
   "pygments_lexer": "ipython3",
   "version": "3.8.10"
  }
 },
 "nbformat": 4,
 "nbformat_minor": 5
}
