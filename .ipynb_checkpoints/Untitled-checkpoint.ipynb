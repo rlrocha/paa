{
 "cells": [
  {
   "cell_type": "code",
   "execution_count": 3,
   "id": "8bd50726-1280-4d35-b748-7d3f3a35f7e4",
   "metadata": {},
   "outputs": [],
   "source": [
    "import numpy as np"
   ]
  },
  {
   "cell_type": "code",
   "execution_count": 12,
   "id": "a624f93c-5137-48fe-95f3-37aefdfa47bc",
   "metadata": {},
   "outputs": [
    {
     "name": "stdout",
     "output_type": "stream",
     "text": [
      "Quick-Sort:  10240\n",
      "Radix-Sort:  606144\n",
      "\n",
      "Quick-Sort é o mais eficiente\n"
     ]
    }
   ],
   "source": [
    "n = 1024\n",
    "k = 100000\n",
    "d = 6\n",
    "\n",
    "quick_sort = n*np.log2(n)\n",
    "radix_sort = d*(n+k)\n",
    "\n",
    "print('Quick-Sort: ', int(quick_sort))\n",
    "print('Radix-Sort: ', radix_sort)\n",
    "\n",
    "if quick_sort<radix_sort:\n",
    "    print('\\nQuick-Sort é o mais eficiente')\n",
    "else:\n",
    "    print('\\nRadix-Sort é o mais eficiente')"
   ]
  },
  {
   "cell_type": "code",
   "execution_count": 15,
   "id": "37790b86-b9a3-4663-b9c7-3a4293b11a83",
   "metadata": {},
   "outputs": [
    {
     "name": "stdout",
     "output_type": "stream",
     "text": [
      "Quick-Sort:  10240\n",
      "Radix-Sort:  8096\n",
      "\n",
      "Radix-Sort é o mais eficiente\n"
     ]
    }
   ],
   "source": [
    "n = 1024\n",
    "k = 1000\n",
    "d = 4\n",
    "\n",
    "quick_sort = n*np.log2(n)\n",
    "radix_sort = d*(n+k)\n",
    "\n",
    "print('Quick-Sort: ', int(quick_sort))\n",
    "print('Radix-Sort: ', radix_sort)\n",
    "\n",
    "if quick_sort<radix_sort:\n",
    "    print('\\nQuick-Sort é o mais eficiente')\n",
    "else:\n",
    "    print('\\nRadix-Sort é o mais eficiente')"
   ]
  },
  {
   "cell_type": "code",
   "execution_count": null,
   "id": "68462079-c095-4c59-b492-c3a8e1ec4ac4",
   "metadata": {},
   "outputs": [],
   "source": []
  }
 ],
 "metadata": {
  "kernelspec": {
   "display_name": "Python 3",
   "language": "python",
   "name": "python3"
  },
  "language_info": {
   "codemirror_mode": {
    "name": "ipython",
    "version": 3
   },
   "file_extension": ".py",
   "mimetype": "text/x-python",
   "name": "python",
   "nbconvert_exporter": "python",
   "pygments_lexer": "ipython3",
   "version": "3.8.10"
  }
 },
 "nbformat": 4,
 "nbformat_minor": 5
}
