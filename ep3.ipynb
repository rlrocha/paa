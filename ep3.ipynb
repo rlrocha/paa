{
 "cells": [
  {
   "cell_type": "markdown",
   "id": "ae08ea6c-01fa-4260-aa11-d0fa3519bc13",
   "metadata": {},
   "source": [
    "<a href=\"https://colab.research.google.com/github/rlrocha/paa/blob/main/ep3.ipynb\" target=\"_parent\"><img src=\"https://colab.research.google.com/assets/colab-badge.svg\" alt=\"Open In Colab\"/></a>"
   ]
  },
  {
   "cell_type": "markdown",
   "id": "ab8f5677-4501-418b-86d0-1dc4ed09c24e",
   "metadata": {},
   "source": [
    "# Exercício Prático 3\n",
    "Rafael Rocha"
   ]
  },
  {
   "cell_type": "code",
   "execution_count": 1,
   "id": "fd571807-67c7-4cd5-b754-ca98bfa24a5c",
   "metadata": {},
   "outputs": [],
   "source": [
    "import numpy as np\n",
    "import matplotlib.pyplot as plt\n",
    "import time"
   ]
  },
  {
   "cell_type": "markdown",
   "id": "8bc93a33-5a6c-48d9-9cde-ec7843998450",
   "metadata": {},
   "source": [
    "## Definição dos tamanhos das entradas"
   ]
  },
  {
   "cell_type": "markdown",
   "id": "755987e6-0cb4-4b6b-8f61-9344bbf81369",
   "metadata": {},
   "source": [
    "Definição do tamanho das entradas n, variando de 50 a 100000 com passos de 500."
   ]
  },
  {
   "cell_type": "code",
   "execution_count": 2,
   "id": "06b69999-4012-43ad-a69e-491f863d3f74",
   "metadata": {},
   "outputs": [
    {
     "name": "stdout",
     "output_type": "stream",
     "text": [
      "Entrada n:  [    50    550   1050   1550   2050   2550   3050   3550   4050   4550\n",
      "   5050   5550   6050   6550   7050   7550   8050   8550   9050   9550\n",
      "  10050  10550  11050  11550  12050  12550  13050  13550  14050  14550\n",
      "  15050  15550  16050  16550  17050  17550  18050  18550  19050  19550\n",
      "  20050  20550  21050  21550  22050  22550  23050  23550  24050  24550\n",
      "  25050  25550  26050  26550  27050  27550  28050  28550  29050  29550\n",
      "  30050  30550  31050  31550  32050  32550  33050  33550  34050  34550\n",
      "  35050  35550  36050  36550  37050  37550  38050  38550  39050  39550\n",
      "  40050  40550  41050  41550  42050  42550  43050  43550  44050  44550\n",
      "  45050  45550  46050  46550  47050  47550  48050  48550  49050  49550\n",
      "  50050  50550  51050  51550  52050  52550  53050  53550  54050  54550\n",
      "  55050  55550  56050  56550  57050  57550  58050  58550  59050  59550\n",
      "  60050  60550  61050  61550  62050  62550  63050  63550  64050  64550\n",
      "  65050  65550  66050  66550  67050  67550  68050  68550  69050  69550\n",
      "  70050  70550  71050  71550  72050  72550  73050  73550  74050  74550\n",
      "  75050  75550  76050  76550  77050  77550  78050  78550  79050  79550\n",
      "  80050  80550  81050  81550  82050  82550  83050  83550  84050  84550\n",
      "  85050  85550  86050  86550  87050  87550  88050  88550  89050  89550\n",
      "  90050  90550  91050  91550  92050  92550  93050  93550  94050  94550\n",
      "  95050  95550  96050  96550  97050  97550  98050  98550  99050  99550\n",
      " 100050]\n"
     ]
    }
   ],
   "source": [
    "n_min = 50\n",
    "n_max = 100000 # 100000, 5000\n",
    "n_step = 500\n",
    "\n",
    "n_list = np.arange(n_min, n_max+n_step, n_step, dtype=np.int64)\n",
    "print('Entrada n: ', n_list)"
   ]
  },
  {
   "cell_type": "markdown",
   "id": "a07ae015-c5d8-49e8-9863-cfcffc4b598a",
   "metadata": {},
   "source": [
    "## Definição das funções"
   ]
  },
  {
   "cell_type": "markdown",
   "id": "1cbe28ce-1197-4c7f-98e8-f8bdf90396d0",
   "metadata": {},
   "source": [
    "### Funções para o algortimo Quick-Sort"
   ]
  },
  {
   "cell_type": "code",
   "execution_count": 3,
   "id": "cacdfbea-fa41-415e-b910-db5afa93e879",
   "metadata": {},
   "outputs": [],
   "source": [
    "def particao(A, p, r):\n",
    "    \n",
    "    global c_p\n",
    "    \n",
    "    x = A[r]\n",
    "    i = p-1\n",
    "    c_p+=2\n",
    "    \n",
    "    for j in range(p, r, 1):\n",
    "        c_p+=1 # for\n",
    "        if A[j] <= x:\n",
    "            c_p+=1 # if\n",
    "            \n",
    "            i+=1\n",
    "            temp = A[j]\n",
    "            A[j] = A[i]\n",
    "            A[i] = temp\n",
    "            c_p+=4\n",
    "    \n",
    "    temp = A[r]\n",
    "    A[r] = A[i+1]\n",
    "    A[i+1] = temp\n",
    "    c_p+=3\n",
    "    \n",
    "    c_p+=1\n",
    "    return i+1"
   ]
  },
  {
   "cell_type": "code",
   "execution_count": 4,
   "id": "2c4486fc-2724-48a4-9a5d-cd51dcf24017",
   "metadata": {},
   "outputs": [],
   "source": [
    "def rand_particao(A, p, r):\n",
    "    \n",
    "    global c_rp\n",
    "    \n",
    "    \n",
    "    i = np.random.randint(p, r, 1)[0]\n",
    "    c_rp+=1\n",
    "    \n",
    "    temp = A[i]\n",
    "    A[i] = A[r]\n",
    "    A[r] = temp\n",
    "    c_rp+=3\n",
    "    \n",
    "    c_rp+=1\n",
    "    return particao(A, p, r)"
   ]
  },
  {
   "cell_type": "code",
   "execution_count": 5,
   "id": "5b3a4277-f480-4895-9f09-ec7b75b7b6b1",
   "metadata": {},
   "outputs": [],
   "source": [
    "def quick_sort(A, p, r):\n",
    "    \n",
    "    global c_qs\n",
    "    \n",
    "    c_qs+=1\n",
    "    if p<r:\n",
    "        c_qs+=1\n",
    "        q = rand_particao(A, p, r)\n",
    "        c_qs+=1\n",
    "        quick_sort(A, p, q-1)\n",
    "        c_qs+=1\n",
    "        quick_sort(A, q+1, r)"
   ]
  },
  {
   "cell_type": "markdown",
   "id": "5ef1c775-b2f9-4e8a-9523-889f4ae3cad0",
   "metadata": {},
   "source": [
    "### Funções para o algortimo Radix-Sort"
   ]
  },
  {
   "cell_type": "code",
   "execution_count": 6,
   "id": "2cfa2e90-4061-476f-85bf-219d283e8243",
   "metadata": {},
   "outputs": [],
   "source": [
    "def counting_sort_radix(A, B, C, n, k, d):\n",
    "    \n",
    "    global c_csr\n",
    "    \n",
    "    for i in range(k):\n",
    "        c_csr+=1\n",
    "        C[i]=0\n",
    "        c_csr+=1\n",
    "        \n",
    "    for j in range(n):\n",
    "        c_csr+=1\n",
    "        Aj = int(np.mod(np.floor(A[j]/d), 10)) \n",
    "        C[Aj] += 1\n",
    "        c_csr+=2\n",
    "    \n",
    "    for i in range(1, k, 1):\n",
    "        c_csr+=1\n",
    "        C[i] = C[i] + C[i-1]\n",
    "        c_csr+=1\n",
    "    \n",
    "    for j in range(n-1, -1, -1):\n",
    "        c_csr+=1\n",
    "        Aj = int(np.mod(np.floor(A[j]/d), 10)) \n",
    "        B[C[Aj]-1] = A[j]\n",
    "        C[Aj] = C[Aj] - 1\n",
    "        c_csr+=3\n",
    "    \n",
    "    c_csr+=1\n",
    "    return B"
   ]
  },
  {
   "cell_type": "code",
   "execution_count": 7,
   "id": "c7e3f759-ea23-4c79-a2ef-9a0026c26df3",
   "metadata": {},
   "outputs": [],
   "source": [
    "def radix_sort(A, n):\n",
    "    \n",
    "    global c_rs\n",
    "    \n",
    "    maior = max(A)\n",
    "    d = 1\n",
    "    c_rs+=2\n",
    "    \n",
    "    while np.floor(maior/d) > 0:\n",
    "        c_rs+=1\n",
    "    \n",
    "        k = int(np.max(np.mod(A/d, 10))+1)\n",
    "        \n",
    "        B = np.zeros(n, dtype=np.int32)\n",
    "        C = np.ones(k, dtype=np.int32)\n",
    "        c_rs+=3\n",
    "\n",
    "        B = counting_sort_radix(A, B, C, n, k, d)\n",
    "        c_rs+=1\n",
    "        \n",
    "        for i in range(n):\n",
    "            c_rs+=1\n",
    "            A[i] = B[i]\n",
    "            c_rs+=1\n",
    "\n",
    "        d = d*10\n",
    "        c_rs+=1\n",
    "    \n",
    "    c_rs+=1\n",
    "    return A"
   ]
  },
  {
   "cell_type": "markdown",
   "id": "0197d112-526d-41cd-8084-8f22fc401618",
   "metadata": {},
   "source": [
    "## Resultados\n",
    "Analisando os resultados obtidos, nota-se que em termos de tempo de execução, o algortimo Quick-Sort é mais eficiente que o algoritmo Radix-Sort. Apesar disso, a quantidade de comandos executados pelo algoritmo Radix-Sort é ligeiramente menor que o algortimo Quick-Sort."
   ]
  },
  {
   "cell_type": "code",
   "execution_count": 8,
   "id": "beba18d1-9142-404d-a1c1-89a39a6d185c",
   "metadata": {},
   "outputs": [],
   "source": [
    "C_quick1 = []\n",
    "C_radix1 = []\n",
    "T_quick1 = []\n",
    "T_radix1 = []\n",
    "\n",
    "for n in n_list:\n",
    "    A = np.random.randint(0, 100000, n)\n",
    "    A_quick = A.copy()\n",
    "    A_radix = A.copy()\n",
    "    \n",
    "    # Quick-Sort\n",
    "    p = 0\n",
    "    r = n-1 # Último elemento\n",
    "    \n",
    "    c_p = 0\n",
    "    c_rp = 0\n",
    "    c_qs = 0\n",
    "    \n",
    "    start_time = time.time()\n",
    "    quick_sort(A_quick, p, r)\n",
    "    t = time.time() - start_time # Tempo de execução\n",
    "    \n",
    "    C_quick1.append(c_p+c_rp+c_qs)\n",
    "    T_quick1.append(t)\n",
    "    \n",
    "    # Radix-Sort\n",
    "    c_csr = 0\n",
    "    c_rs = 0\n",
    "    \n",
    "    start_time = time.time()\n",
    "    A_radix = radix_sort(A_radix, len(A_radix))\n",
    "    t = time.time() - start_time # Tempo de execução\n",
    "    \n",
    "    C_radix1.append(c_csr+c_rs)\n",
    "    T_radix1.append(t)\n",
    "    "
   ]
  },
  {
   "cell_type": "code",
   "execution_count": 23,
   "id": "d263701d-920d-4600-b232-8ba6ddc6306e",
   "metadata": {},
   "outputs": [
    {
     "data": {
      "image/png": "[encoded data removed]",
      "text/plain": [
       "<Figure size 640x320 with 2 Axes>"
      ]
     },
     "metadata": {
      "needs_background": "light"
     },
     "output_type": "display_data"
    }
   ],
   "source": [
    "fig_luz, axes = plt.subplots(1,2,figsize=(8,4), dpi = 80)\n",
    "plt.tight_layout()\n",
    "\n",
    "axes[0].plot(n_list, T_quick1, color='blue')\n",
    "axes[0].plot(n_list, T_radix1, color='red')\n",
    "axes[0].set_xlabel('Tamnho da entrada')\n",
    "axes[0].set_ylabel('Tempo de execução (s)')\n",
    "axes[0].set_title('Comparação')\n",
    "axes[0].grid()\n",
    "axes[0].legend(['Quick-Sort', 'Radix-Sort'])\n",
    "\n",
    "axes[1].plot(n_list, C_quick1, color='blue')\n",
    "axes[1].plot(n_list, C_radix1, color='red')\n",
    "axes[1].set_xlabel('Tamnho da entrada')\n",
    "axes[1].set_ylabel('Comandos executados')\n",
    "axes[1].set_title('Comparação')\n",
    "axes[1].grid()\n",
    "axes[1].legend(['Quick-Sort', 'Radix-Sort'])\n",
    "\n",
    "plt.subplots_adjust(right=1.5)\n",
    "\n",
    "#plt.savefig('resultados/ep3/ep3_analise1.png', dpi=300, bbox_inches = 'tight')\n",
    "plt.show()"
   ]
  },
  {
   "cell_type": "markdown",
   "id": "25a7a666-374b-4538-8fa3-f9b61a9bc9b5",
   "metadata": {},
   "source": [
    "## Análise da complexidade dos Algoritmos"
   ]
  },
  {
   "cell_type": "markdown",
   "id": "ed79a9f3-f3e2-4767-bdfc-a63323f91995",
   "metadata": {},
   "source": [
    "A complexidade do algortimo Quick-Sort é dada por:\n",
    "\\begin{equation*}\n",
    "n*log(n)\n",
    "\\end{equation*}\n",
    "Enquanto que a complexidade do algortimo Radix-Sort utilizando o Counting-Sort é definida por:\n",
    "\\begin{equation*}\n",
    "d*(n+k)\n",
    "\\end{equation*}\n",
    "Onde *n* é o tamanho do vetor, *k* é o maior valor inteiro dentro do vetor e *d* é a quantidade de dígitos.\n",
    "Logo a complexidade, para um vetor de tamanho 1024, dos resultados obtidos acima em unidades de tempo, é:\n",
    "\\begin{equation*}\n",
    "n*log(n)=1024*log(1024)=1024*10=10.240\n",
    "\\end{equation*}\n",
    "e \\begin{equation*}\n",
    "d*(n+k)=6*(1024+100000) = 60.144\n",
    "\\end{equation*}\n",
    "Desse modo, é possível provar que o algortimo Quick-Sort é mais eficiente em termos de tempo de execução. Esse resultado é obtido devido a geração de valores inteiros variando entre 0 e 100.000, onde o máximo valor que *k* pode assumir é 100.000 e por consequência, *d* assume 6."
   ]
  },
  {
   "cell_type": "code",
   "execution_count": 15,
   "id": "a79e8468-1861-41ba-a9d7-64790faf10aa",
   "metadata": {},
   "outputs": [
    {
     "name": "stdout",
     "output_type": "stream",
     "text": [
      "Quick-Sort:  10240\n",
      "Radix-Sort:  606144\n",
      "\n",
      "Quick-Sort é o mais eficiente\n"
     ]
    }
   ],
   "source": [
    "n = 1024\n",
    "k = 100000\n",
    "d = 6\n",
    "\n",
    "qs = n*np.log2(n)\n",
    "rs = d*(n+k)\n",
    "\n",
    "print('Quick-Sort: ', int(qs))\n",
    "print('Radix-Sort: ', rs)\n",
    "\n",
    "if qs<rs:\n",
    "    print('\\nQuick-Sort é o mais eficiente')\n",
    "else:\n",
    "    print('\\nRadix-Sort é o mais eficiente')"
   ]
  },
  {
   "cell_type": "markdown",
   "id": "7006551e-7e50-456e-b975-ff986f575352",
   "metadata": {},
   "source": [
    "Analisando a geração de valores inteiros variando, agora, entre 0 e 1.000, temos as seguintes complexidades em unidade de tempo:\n",
    "\\begin{equation*}\n",
    "n*log(n)=1024*log(1024)=1024*10=10.240\n",
    "\\end{equation*}\n",
    "e \\begin{equation*}\n",
    "d*(n+k)=4*(1024+1000) = 8.096\n",
    "\\end{equation*}\n",
    "Com esse conjunto de parâmetros, por outro lado, nota-se o que algorimto Radix-Sort torna-se mais eficiente, devido as mudanças nos valores de *k* e *d*. Os resultados para essa nova análise encontram-se abaixo, e estes mostram o algortimo Radix-Sort é mais eficiente tanto em termos de tempo de execução, quanto em termos de quantidade de comandos executados."
   ]
  },
  {
   "cell_type": "code",
   "execution_count": 16,
   "id": "aff46c42-b376-4689-b061-87d33c22b206",
   "metadata": {},
   "outputs": [
    {
     "name": "stdout",
     "output_type": "stream",
     "text": [
      "Quick-Sort:  10240\n",
      "Radix-Sort:  8096\n",
      "\n",
      "Radix-Sort é o mais eficiente\n"
     ]
    }
   ],
   "source": [
    "n = 1024\n",
    "k = 1000\n",
    "d = 4\n",
    "\n",
    "qs = n*np.log2(n)\n",
    "rs = d*(n+k)\n",
    "\n",
    "print('Quick-Sort: ', int(qs))\n",
    "print('Radix-Sort: ', rs)\n",
    "\n",
    "if qs<rs:\n",
    "    print('\\nQuick-Sort é o mais eficiente')\n",
    "else:\n",
    "    print('\\nRadix-Sort é o mais eficiente')"
   ]
  },
  {
   "cell_type": "code",
   "execution_count": 17,
   "id": "53e1769b-d607-41dd-b576-a640868505a6",
   "metadata": {},
   "outputs": [],
   "source": [
    "C_quick2 = []\n",
    "C_radix2 = []\n",
    "T_quick2 = []\n",
    "T_radix2 = []\n",
    "\n",
    "for n in n_list:\n",
    "    A = np.random.randint(0, 1000, n)\n",
    "    A_quick = A.copy()\n",
    "    A_radix = A.copy()\n",
    "    \n",
    "    # Quick-Sort\n",
    "    p = 0\n",
    "    r = n-1 # Último elemento\n",
    "    \n",
    "    c_p = 0\n",
    "    c_rp = 0\n",
    "    c_qs = 0\n",
    "    \n",
    "    start_time = time.time()\n",
    "    quick_sort(A_quick, p, r)\n",
    "    t = time.time() - start_time # Tempo de execução\n",
    "    \n",
    "    C_quick2.append(c_p+c_rp+c_qs)\n",
    "    T_quick2.append(t)\n",
    "    \n",
    "    # Radix-Sort\n",
    "    c_csr = 0\n",
    "    c_rs = 0\n",
    "    \n",
    "    start_time = time.time()\n",
    "    A_radix = radix_sort(A_radix, len(A_radix))\n",
    "    t = time.time() - start_time # Tempo de execução\n",
    "    \n",
    "    C_radix2.append(c_csr+c_rs)\n",
    "    T_radix2.append(t)"
   ]
  },
  {
   "cell_type": "code",
   "execution_count": 24,
   "id": "220d73e6-d823-4afe-8895-5f816f03ba13",
   "metadata": {},
   "outputs": [
    {
     "data": {
      "image/png": "[encoded data removed]",
      "text/plain": [
       "<Figure size 640x320 with 2 Axes>"
      ]
     },
     "metadata": {
      "needs_background": "light"
     },
     "output_type": "display_data"
    }
   ],
   "source": [
    "fig_luz, axes = plt.subplots(1,2,figsize=(8,4), dpi = 80)\n",
    "plt.tight_layout()\n",
    "\n",
    "axes[0].plot(n_list, T_quick2, color='blue')\n",
    "axes[0].plot(n_list, T_radix2, color='red')\n",
    "axes[0].set_xlabel('Tamnho da entrada')\n",
    "axes[0].set_ylabel('Tempo de execução (s)')\n",
    "axes[0].set_title('Comparação')\n",
    "axes[0].grid()\n",
    "axes[0].legend(['Quick-Sort', 'Radix-Sort'])\n",
    "\n",
    "axes[1].plot(n_list, C_quick2, color='blue')\n",
    "axes[1].plot(n_list, C_radix2, color='red')\n",
    "axes[1].set_xlabel('Tamnho da entrada')\n",
    "axes[1].set_ylabel('Comandos executados')\n",
    "axes[1].set_title('Comparação')\n",
    "axes[1].grid()\n",
    "axes[1].legend(['Quick-Sort', 'Radix-Sort'])\n",
    "\n",
    "plt.subplots_adjust(right=1.5)\n",
    "\n",
    "#plt.savefig('resultados/ep3/ep3_analise2.png', dpi=300, bbox_inches = 'tight')\n",
    "plt.show()"
   ]
  },
  {
   "cell_type": "code",
   "execution_count": null,
   "id": "f70be5c7-ba6a-4708-88c6-75a55bb4ce7e",
   "metadata": {},
   "outputs": [],
   "source": []
  }
 ],
 "metadata": {
  "kernelspec": {
   "display_name": "Python 3",
   "language": "python",
   "name": "python3"
  },
  "language_info": {
   "codemirror_mode": {
    "name": "ipython",
    "version": 3
   },
   "file_extension": ".py",
   "mimetype": "text/x-python",
   "name": "python",
   "nbconvert_exporter": "python",
   "pygments_lexer": "ipython3",
   "version": "3.8.10"
  }
 },
 "nbformat": 4,
 "nbformat_minor": 5
}
