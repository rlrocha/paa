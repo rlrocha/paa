{
 "cells": [
  {
   "cell_type": "markdown",
   "id": "2cd07de7-adf8-4523-a68e-7dfdd36c98d3",
   "metadata": {},
   "source": [
    "<a href=\"https://colab.research.google.com/github/rlrocha/paa/blob/main/ep2.ipynb\" target=\"_parent\"><img src=\"https://colab.research.google.com/assets/colab-badge.svg\" alt=\"Open In Colab\"/></a>"
   ]
  },
  {
   "cell_type": "markdown",
   "id": "4a0d884d-76bf-4619-b483-5b18ec0fd1ec",
   "metadata": {},
   "source": [
    "# Exercício Prático 2\n",
    "Rafael Rocha"
   ]
  },
  {
   "cell_type": "code",
   "execution_count": 1,
   "id": "7f8d5833-c61f-4c67-8732-40208c3dc4a4",
   "metadata": {},
   "outputs": [],
   "source": [
    "import numpy as np\n",
    "import matplotlib.pyplot as plt\n",
    "import time"
   ]
  },
  {
   "cell_type": "markdown",
   "id": "51065683-89b5-45e2-88b2-5936522deda0",
   "metadata": {},
   "source": [
    "## Definição dos dados"
   ]
  },
  {
   "cell_type": "markdown",
   "id": "e2f6d1f2-0ad5-4513-8142-3e1e7fd521bc",
   "metadata": {},
   "source": [
    "Definição da entrada x, variando de 10 a 500 com passos de 10."
   ]
  },
  {
   "cell_type": "code",
   "execution_count": 2,
   "id": "d953953b-b287-4f25-8d4a-78f13d7ab078",
   "metadata": {},
   "outputs": [
    {
     "name": "stdout",
     "output_type": "stream",
     "text": [
      "Entrada x:  [ 10  20  30  40  50  60  70  80  90 100 110 120 130 140 150 160 170 180\n",
      " 190 200 210 220 230 240 250 260 270 280 290 300 310 320 330 340 350 360\n",
      " 370 380 390 400 410 420 430 440 450 460 470 480 490 500]\n"
     ]
    }
   ],
   "source": [
    "x_min = 10\n",
    "x_max = 500\n",
    "x_step = 10\n",
    "\n",
    "x = np.arange(x_min, x_max+x_step, x_step, dtype=np.int64)\n",
    "print('Entrada x: ', x)"
   ]
  },
  {
   "cell_type": "markdown",
   "id": "5a1801d1-b621-43f4-a0f9-e0facf1934bb",
   "metadata": {},
   "source": [
    "Definição aleatória da constante *a*, sendo:\n",
    "\\begin{equation*}\n",
    "3 \\leq a \\leq 200\n",
    "\\end{equation*}"
   ]
  },
  {
   "cell_type": "code",
   "execution_count": 3,
   "id": "ad9f411b-1179-44a7-9df3-a7b1f56b44ea",
   "metadata": {},
   "outputs": [
    {
     "name": "stdout",
     "output_type": "stream",
     "text": [
      "Valor de a:  14\n"
     ]
    }
   ],
   "source": [
    "a_min = 3\n",
    "a_max = 200\n",
    "a = np.random.randint(a_min, a_max+1)\n",
    "\n",
    "a=14\n",
    "a = np.int64(a)\n",
    "\n",
    "print('Valor de a: ', a)"
   ]
  },
  {
   "cell_type": "markdown",
   "id": "a6adba99-f045-4a5b-9acb-97ab93631fe7",
   "metadata": {},
   "source": [
    "Definição aleatória da constante *b*, sendo:\n",
    "\\begin{equation*}\n",
    "0,5 \\leq b \\leq 2\n",
    "\\end{equation*}"
   ]
  },
  {
   "cell_type": "code",
   "execution_count": 4,
   "id": "52670eea-4cdc-4dd4-bd90-9e16c3d93eaa",
   "metadata": {},
   "outputs": [
    {
     "name": "stdout",
     "output_type": "stream",
     "text": [
      "Valor de b:  1.881139491411684\n"
     ]
    }
   ],
   "source": [
    "b_min = 0.5\n",
    "b_max = 2\n",
    "b = np.random.uniform(b_min, b_max)\n",
    "\n",
    "b=1.8811394914116839\n",
    "b = np.float64(b)\n",
    "\n",
    "print('Valor de b: ', b)"
   ]
  },
  {
   "cell_type": "markdown",
   "id": "5ddde28b-814e-42d0-a1b4-0034afe9bab8",
   "metadata": {},
   "source": [
    "## Definição das funções"
   ]
  },
  {
   "cell_type": "markdown",
   "id": "3b684aed-229f-4e41-be91-7ff020a0ca94",
   "metadata": {},
   "source": [
    "Definição da função f(x), que é dada por:\n",
    "\n",
    "\\begin{equation*}\n",
    "f(x) = 2x + 30log_2 x\n",
    "\\end{equation*}"
   ]
  },
  {
   "cell_type": "code",
   "execution_count": 5,
   "id": "47893926-8551-4e03-b68d-43f45edd6a29",
   "metadata": {},
   "outputs": [],
   "source": [
    "def fx (x):\n",
    "    \n",
    "    y = 2*x + 30*np.log2(x)\n",
    "\n",
    "    return y"
   ]
  },
  {
   "cell_type": "markdown",
   "id": "b246a85c-8147-4804-b344-31fac0770794",
   "metadata": {},
   "source": [
    "Definição das funções recursiva e recursiva2."
   ]
  },
  {
   "cell_type": "code",
   "execution_count": 6,
   "id": "685f63e9-6360-4c7c-acda-6d4951385b1a",
   "metadata": {},
   "outputs": [],
   "source": [
    "def recursiva(x):\n",
    "    global c\n",
    "    c+=1\n",
    "    if x <= 1:\n",
    "        c+=1\n",
    "        return -x\n",
    "    else:\n",
    "        c+=1\n",
    "        val_rec = recursiva(x-b)\n",
    "        c+=1\n",
    "        val_mult = -a*val_rec\n",
    "        c+=1\n",
    "        valor = val_mult + fx(x)\n",
    "        c+=1\n",
    "        return valor"
   ]
  },
  {
   "cell_type": "code",
   "execution_count": 8,
   "id": "fdec137a-5107-44cb-98bf-e6e021aa86b9",
   "metadata": {},
   "outputs": [],
   "source": [
    "def recursiva2(x):\n",
    "    if x <= 1:\n",
    "        return -x\n",
    "    else:\n",
    "        return -a*recursiva2(x-b) + fx(x)*recursiva2(x/(b+1))"
   ]
  },
  {
   "cell_type": "markdown",
   "id": "0f80e0ea-5f25-44ee-acfb-dfca991f333c",
   "metadata": {},
   "source": [
    "## Resultados"
   ]
  },
  {
   "cell_type": "markdown",
   "id": "2f52be5f-8326-4500-990a-0840213337e5",
   "metadata": {},
   "source": [
    "### Entrada até 500"
   ]
  },
  {
   "cell_type": "code",
   "execution_count": 9,
   "id": "95bc2e4f-a59d-4c13-bb8d-39debdd4f2f5",
   "metadata": {},
   "outputs": [],
   "source": [
    "C = [] # Instruções executadas\n",
    "T1 = [] # Tempo de execução da função recursiva\n",
    "T2 = [] # Tempo de execução da função recursiva2\n",
    "Y = [] # Saída da função recursiva\n",
    "\n",
    "for i in range(len(x)):\n",
    "    \n",
    "    c = 0\n",
    "    start_time = time.time()\n",
    "    y = recursiva(x[i])\n",
    "    t = time.time() - start_time # Tempo de execução\n",
    "    \n",
    "    C.append(c)\n",
    "    T1.append(t*1000)\n",
    "    Y.append(y)\n",
    "    \n",
    "    c = 0\n",
    "    start_time = time.time()\n",
    "    _ = recursiva2(x[i])\n",
    "    t = time.time() - start_time # Tempo de execução\n",
    "    \n",
    "    T2.append(t*1000)"
   ]
  },
  {
   "cell_type": "code",
   "execution_count": 15,
   "id": "0b8e0ef8-bfca-4fd5-a3d9-7e9d17660ba4",
   "metadata": {},
   "outputs": [
    {
     "data": {
      "image/png": "[encoded data removed]",
      "text/plain": [
       "<Figure size 432x288 with 1 Axes>"
      ]
     },
     "metadata": {
      "needs_background": "light"
     },
     "output_type": "display_data"
    }
   ],
   "source": [
    "plt.plot(x, Y)\n",
    "plt.ylabel('Saída')\n",
    "plt.xlabel('Entrada')\n",
    "plt.title('Função recursiva')\n",
    "plt.grid()\n",
    "#plt.savefig('resultados/ep2/ep2_entrada_saida.pdf', bbox_inches = 'tight')\n",
    "plt.show()"
   ]
  },
  {
   "cell_type": "code",
   "execution_count": 16,
   "id": "d4ac7383-e5af-4388-9fe0-151ea19a1c47",
   "metadata": {},
   "outputs": [
    {
     "data": {
      "image/png": "[encoded data removed]",
      "text/plain": [
       "<Figure size 432x288 with 1 Axes>"
      ]
     },
     "metadata": {
      "needs_background": "light"
     },
     "output_type": "display_data"
    }
   ],
   "source": [
    "plt.plot(x, C)\n",
    "plt.ylabel('Comandos executados')\n",
    "plt.xlabel('Entrada')\n",
    "plt.title('Função recursiva')\n",
    "plt.grid()\n",
    "#plt.savefig('resultados/ep2/ep2_entrada_comandos.pdf', bbox_inches = 'tight')\n",
    "plt.show()"
   ]
  },
  {
   "cell_type": "markdown",
   "id": "a153db2a-a6d4-4d5e-8a3f-7c1f1445740b",
   "metadata": {},
   "source": [
    "Através do gráfico de entrada pelo tempo de execução, nota-se que o algoritmo recursiva é mais eficiente que o algoritmo recursiva2 em termos de tempo de execução."
   ]
  },
  {
   "cell_type": "code",
   "execution_count": 17,
   "id": "50ce5296-5a20-4e83-b6d1-0d309031352c",
   "metadata": {},
   "outputs": [
    {
     "data": {
      "image/png": "[encoded data removed]",
      "text/plain": [
       "<Figure size 432x288 with 1 Axes>"
      ]
     },
     "metadata": {
      "needs_background": "light"
     },
     "output_type": "display_data"
    }
   ],
   "source": [
    "plt.plot(x, T1)\n",
    "plt.plot(x, T2)\n",
    "plt.legend(['recursiva', 'recursiva2'])\n",
    "plt.ylabel('Tempo de execução (ms)')\n",
    "plt.xlabel('Entrada')\n",
    "plt.title('Comparação')\n",
    "plt.grid()\n",
    "#plt.savefig('resultados/ep2/ep2_entrada_tempo.pdf', bbox_inches = 'tight')\n",
    "plt.show()"
   ]
  },
  {
   "cell_type": "markdown",
   "id": "7ffd9e91-6e6c-406f-aac8-b808001728a1",
   "metadata": {},
   "source": [
    "### Entradas maiores que 500\n",
    "Em uma análise para valores de entradas maiores que o predefinido (500), como mostra o gráfico abaixo, nota-se que recursiva também é mais eficiente que recursiva2. Porém, ao analisar assintoticamente, nota-se que a diferença de complexidades é insignificante entre os algoritmos, onde ambos apresentam um comportamento de complexidade linear."
   ]
  },
  {
   "cell_type": "code",
   "execution_count": 13,
   "id": "232a0270-47ab-4d2d-b8de-a6e885694406",
   "metadata": {},
   "outputs": [
    {
     "name": "stderr",
     "output_type": "stream",
     "text": [
      "<ipython-input-6-2fd99a8da060>:11: RuntimeWarning: overflow encountered in multiply\n",
      "  val_mult = -a*val_rec\n",
      "<ipython-input-8-33a62f225886>:5: RuntimeWarning: overflow encountered in multiply\n",
      "  return -a*recursiva2(x-b) + fx(x)*recursiva2(x/(b+1))\n"
     ]
    }
   ],
   "source": [
    "x_min = 10\n",
    "x_max = 1000\n",
    "x_step = 10\n",
    "\n",
    "X = [] # Entrada\n",
    "T1_500 = [] # Tempo de execução da função recursiva para entradas maiores que 500\n",
    "T2_500 = [] # Tempo de execução da função recursiva2 para entradas maiores que 500\n",
    "\n",
    "\n",
    "for i in range(x_min, x_max+x_step, x_step):\n",
    "    X.append(i)\n",
    "    start_time = time.time()\n",
    "    _ = recursiva(i)\n",
    "    t = time.time() - start_time # Tempo de execução\n",
    "\n",
    "    T1_500.append(t*1000)\n",
    "\n",
    "    start_time = time.time()\n",
    "    _ = recursiva2(i)\n",
    "    t = time.time() - start_time # Tempo de execução\n",
    "\n",
    "    T2_500.append(t*1000)"
   ]
  },
  {
   "cell_type": "code",
   "execution_count": 18,
   "id": "b75f15b3-5732-4bad-af78-12493c7d2296",
   "metadata": {},
   "outputs": [
    {
     "data": {
      "image/png": "[encoded data removed]",
      "text/plain": [
       "<Figure size 432x288 with 1 Axes>"
      ]
     },
     "metadata": {
      "needs_background": "light"
     },
     "output_type": "display_data"
    }
   ],
   "source": [
    "plt.plot(X, T1_500)\n",
    "plt.plot(X, T2_500)\n",
    "plt.legend(['recursiva', 'recursiva2'])\n",
    "plt.ylabel('Tempo de execução (ms)')\n",
    "plt.xlabel('Entrada')\n",
    "plt.title('Entrada maior que 500')\n",
    "plt.grid()\n",
    "#plt.savefig('resultados/ep2/ep2_entrada_500_tempo.pdf', bbox_inches = 'tight')\n",
    "plt.show()"
   ]
  },
  {
   "cell_type": "code",
   "execution_count": null,
   "id": "6927e583-a8f5-428d-8432-1e8b5b82713b",
   "metadata": {},
   "outputs": [],
   "source": []
  }
 ],
 "metadata": {
  "kernelspec": {
   "display_name": "Python 3",
   "language": "python",
   "name": "python3"
  },
  "language_info": {
   "codemirror_mode": {
    "name": "ipython",
    "version": 3
   },
   "file_extension": ".py",
   "mimetype": "text/x-python",
   "name": "python",
   "nbconvert_exporter": "python",
   "pygments_lexer": "ipython3",
   "version": "3.8.10"
  }
 },
 "nbformat": 4,
 "nbformat_minor": 5
}
